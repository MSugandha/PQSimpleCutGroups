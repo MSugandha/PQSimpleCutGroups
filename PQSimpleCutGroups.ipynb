{
 "cells": [
  {
   "cell_type": "markdown",
   "metadata": {},
   "source": [
    "# Investigating Prime Graph question\n",
    "\n",
    "This notebooks demonstrates calculations for the paper ..."
   ]
  },
  {
   "cell_type": "markdown",
   "metadata": {},
   "source": [
    "First we load the [HeLP package](https://gap-packages.github.io/HeLP/) and increase verbosity of the output."
   ]
  },
  {
   "cell_type": "code",
   "execution_count": 4,
   "metadata": {},
   "outputs": [
    {
     "data": {
      "text/plain": [
       "true"
      ]
     },
     "execution_count": 4,
     "metadata": {
      "text/plain": ""
     },
     "output_type": "execute_result"
    }
   ],
   "source": [
    "LoadPackage(\"help\");"
   ]
  },
  {
   "cell_type": "code",
   "execution_count": 5,
   "metadata": {},
   "outputs": [],
   "source": [
    "SetInfoLevel(HeLP_Info,4);"
   ]
  },
  {
   "cell_type": "markdown",
   "metadata": {},
   "source": [
    "Load character tables for groups $U_6(2)$, $U_6(2).2 $ and $G_2(4).2$ from the [GAP Character Tables library](http://www.math.rwth-aachen.de/~Thomas.Breuer/ctbllib/)."
   ]
  },
  {
   "cell_type": "code",
   "execution_count": 6,
   "metadata": {},
   "outputs": [
    {
     "data": {
      "text/plain": [
       "CharacterTable( \"U6(2)\" )"
      ]
     },
     "execution_count": 6,
     "metadata": {
      "text/plain": ""
     },
     "output_type": "execute_result"
    }
   ],
   "source": [
    "CT1:=CharacterTable(\"U6(2)\");"
   ]
  },
  {
   "cell_type": "code",
   "execution_count": 7,
   "metadata": {},
   "outputs": [
    {
     "data": {
      "text/plain": [
       "CharacterTable( \"U6(2).2\" )"
      ]
     },
     "execution_count": 7,
     "metadata": {
      "text/plain": ""
     },
     "output_type": "execute_result"
    }
   ],
   "source": [
    "CT2:=CharacterTable(\"U6(2).2\");"
   ]
  },
  {
   "cell_type": "code",
   "execution_count": 8,
   "metadata": {},
   "outputs": [
    {
     "data": {
      "text/plain": [
       "CharacterTable( \"G2(4).2\" )"
      ]
     },
     "execution_count": 8,
     "metadata": {
      "text/plain": ""
     },
     "output_type": "execute_result"
    }
   ],
   "source": [
    "CT3:=CharacterTable(\"G2(4).2\");"
   ]
  },
  {
   "cell_type": "markdown",
   "metadata": {},
   "source": [
    "Finally, use [`HeLP_PQ`](https://gap-packages.github.io/HeLP/doc/chap2.html#X813A10398218E9EE) from the HeLP package to verify the Prime Graph question for these three groups."
   ]
  },
  {
   "cell_type": "code",
   "execution_count": null,
   "metadata": {},
   "outputs": [
    {
     "name": "stdout",
     "output_type": "stream",
     "text": [
      "#I  Checking order 2.\n",
      "#I    Calculating the solutions for elements of order 2.\n",
      "#I    Using table BrauerTable( \"U6(2)\", 2 ).\n",
      "#I    Using table BrauerTable( \"U6(2)\", 3 ).\n",
      "#I                                                                              Using table BrauerTable( \"U6(2)\", 11 ).\n",
      "#I    Using table BrauerTable( \"U6(2)\", 7 ).\n",
      "#I    Using table BrauerTable( \"U6(2)\", 5 ).\n",
      "#I    Using table CharacterTable( \"U6(2)\" ).\n",
      "#I  Checking order 3.\n",
      "#I    Calculating the solutions for elements of order 3.\n",
      "#I    Using table BrauerTable( \"U6(2)\", 2 ).\n",
      "#I                                                                              Using table BrauerTable( \"U6(2)\", 3 ).\n",
      "#I    Using table BrauerTable( \"U6(2)\", 11 ).\n",
      "#I    Using table BrauerTable( \"U6(2)\", 7 ).\n",
      "#I    Using table BrauerTable( \"U6(2)\", 5 ).\n",
      "#I    Using table CharacterTable( \"U6(2)\" ).\n",
      "#I  Checking order 5.\n",
      "#I    Calculating the solutions for elements of order 5.\n",
      "#I    Using table BrauerTable( \"U6(2)\", 2 ).\n",
      "#I                                                                            Checking order 7.\n",
      "#I    Calculating the solutions for elements of order 7.\n",
      "#I    Using table BrauerTable( \"U6(2)\", 2 ).\n",
      "#I                                                                            Checking order 11.\n",
      "#I    Calculating the solutions for elements of order 11.\n",
      "#I    Using table BrauerTable( \"U6(2)\", 2 ).\n",
      "#I                                                                              Using table BrauerTable( \"U6(2)\", 3 ).\n",
      "#I    Using table BrauerTable( \"U6(2)\", 11 ).\n",
      "#I    Using table BrauerTable( \"U6(2)\", 7 ).\n",
      "#I    Using table BrauerTable( \"U6(2)\", 5 ).\n",
      "#I    Using table CharacterTable( \"U6(2)\" ).\n",
      "#I  Checking order 14.\n",
      "#I    Calculating the solutions for elements of order 14.\n",
      "#I    Using table BrauerTable( \"U6(2)\", 2 ).\n",
      "#I    Using table BrauerTable( \"U6(2)\", 3 ).\n",
      "#I                                                                            Checking order 21.\n",
      "#I    Calculating the solutions for elements of order 21.\n",
      "#I    Using table BrauerTable( \"U6(2)\", 2 ).\n",
      "#I                                                                            Checking order 22.\n",
      "#I    Calculating the solutions for elements of order 22.\n",
      "#I    Using table BrauerTable( \"U6(2)\", 2 ).\n",
      "#I    Using table BrauerTable( \"U6(2)\", 3 ).\n",
      "#I      Testing possibility 332/574 for elements of order 22.\r"
     ]
    }
   ],
   "source": [
    "HeLP_PQ(CT1);"
   ]
  },
  {
   "cell_type": "code",
   "execution_count": null,
   "metadata": {},
   "outputs": [],
   "source": [
    "HeLP_PQ(CT2);"
   ]
  },
  {
   "cell_type": "code",
   "execution_count": null,
   "metadata": {},
   "outputs": [],
   "source": [
    "HeLP_PQ(CT3);"
   ]
  }
 ],
 "metadata": {
  "kernelspec": {
   "display_name": "GAP 4",
   "language": "gap",
   "name": "gap-4"
  },
  "language_info": {
   "codemirror_mode": "gap",
   "file_extension": ".g",
   "mimetype": "text/x-gap",
   "name": "GAP 4",
   "nbconvert_exporter": "",
   "pygments_lexer": "gap",
   "version": "4.11.1"
  }
 },
 "nbformat": 4,
 "nbformat_minor": 4
}
